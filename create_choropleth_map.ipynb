{
 "cells": [
  {
   "cell_type": "code",
   "execution_count": 1,
   "metadata": {},
   "outputs": [
    {
     "name": "stderr",
     "output_type": "stream",
     "text": [
      "c:\\Users\\jgidn\\Documents\\Summer Project\\KidSatExt\\.venv\\Lib\\site-packages\\geopandas\\_compat.py:124: UserWarning: The Shapely GEOS version (3.11.1-CAPI-1.17.1) is incompatible with the GEOS version PyGEOS was compiled with (3.10.4-CAPI-1.16.2). Conversions between both will be slow.\n",
      "  warnings.warn(\n",
      "C:\\Users\\jgidn\\AppData\\Local\\Temp\\ipykernel_30324\\302696252.py:5: DeprecationWarning: Shapely 2.0 is installed, but because PyGEOS is also installed, GeoPandas still uses PyGEOS by default. However, starting with version 0.14, the default will switch to Shapely. To force to use Shapely 2.0 now, you can either uninstall PyGEOS or set the environment variable USE_PYGEOS=0. You can do this before starting the Python process, or in your code before importing geopandas:\n",
      "\n",
      "import os\n",
      "os.environ['USE_PYGEOS'] = '0'\n",
      "import geopandas\n",
      "\n",
      "In the next release, GeoPandas will switch to using Shapely by default, even if PyGEOS is installed. If you only have PyGEOS installed to get speed-ups, this switch should be smooth. However, if you are using PyGEOS directly (calling PyGEOS functions on geometries from GeoPandas), this will then stop working and you are encouraged to migrate from PyGEOS to Shapely 2.0 (https://shapely.readthedocs.io/en/latest/migration_pygeos.html).\n",
      "  import geopandas as gpd\n"
     ]
    }
   ],
   "source": [
    "import pandas as pd\n",
    "import numpy as np\n",
    "import matplotlib.pyplot as plt\n",
    "import os\n",
    "import geopandas as gpd\n",
    "import kaleido\n",
    "import itertools\n",
    "from tqdm import tqdm\n",
    "from shapely.geometry import Polygon\n",
    "from pykrige.ok import OrdinaryKriging\n",
    "import numpy as np\n",
    "import pandas as pd\n",
    "import plotly.graph_objects as go\n",
    "import plotly.express as px\n",
    "\n",
    "\n",
    "\n",
    "\n",
    "os.environ['USE_PYGEOS'] = '0'"
   ]
  },
  {
   "cell_type": "code",
   "execution_count": 2,
   "metadata": {},
   "outputs": [],
   "source": [
    "path = \"C://Users/jgidn/Documents/Summer Project/orphanhood_predictions.csv\"\n",
    "df= pd.read_csv(path)\n",
    "df = df[['lat','lon','orphaned']]"
   ]
  },
  {
   "cell_type": "code",
   "execution_count": 3,
   "metadata": {},
   "outputs": [
    {
     "data": {
      "image/png": "[encoded data removed]",
      "text/plain": [
       "<Figure size 640x480 with 1 Axes>"
      ]
     },
     "metadata": {},
     "output_type": "display_data"
    }
   ],
   "source": [
    "g_df = gpd.GeoDataFrame(df, crs=\"EPSG:4326\", geometry=gpd.points_from_xy(df[\"lon\"], df[\"lat\"]))\n",
    "\n",
    "g_df = g_df.to_crs(\"EPSG:3347\")\n",
    "g_df[\"Easting\"], g_df[\"Northing\"] = g_df.geometry.x, g_df.geometry.y\n",
    "resolution = 20000  # cell size in meters\n",
    "gridx = np.arange(g_df.bounds.minx.min(), g_df.bounds.maxx.max(), resolution)\n",
    "gridy = np.arange(g_df.bounds.miny.min(), g_df.bounds.maxy.max(), resolution)\n",
    "\n",
    "# Interpolate\n",
    "krig = OrdinaryKriging(x=g_df[\"Easting\"], y=g_df[\"Northing\"], z=g_df['orphaned'], variogram_model=\"spherical\",\n",
    "    # drift_terms=['regional_linear']\n",
    "                        )\n",
    "z, ss = krig.execute(\"grid\", gridx, gridy)\n",
    "z= z.clip(0,1)\n",
    "plt.imshow(z);"
   ]
  },
  {
   "cell_type": "code",
   "execution_count": 4,
   "metadata": {},
   "outputs": [],
   "source": [
    "def pixel2poly(x, y, z, resolution):\n",
    "    \"\"\"\n",
    "    x: x coords of cell\n",
    "    y: y coords of cell\n",
    "    z: matrix of values for each (x,y)\n",
    "    resolution: spatial resolution of each cell\n",
    "    \"\"\"\n",
    "    polygons = []\n",
    "    values = []\n",
    "    half_res = resolution / 2\n",
    "    for i, j  in (itertools.product(range(len(x)), range(len(y)))):\n",
    "        minx, maxx = x[i] - half_res, x[i] + half_res\n",
    "        miny, maxy = y[j] - half_res, y[j] + half_res\n",
    "        polygons.append(Polygon([(minx, miny), (minx, maxy), (maxx, maxy), (maxx, miny)]))\n",
    "        if isinstance(z, (int, float)):\n",
    "            values.append(z)\n",
    "        else:\n",
    "            values.append(z[j, i])\n",
    "    return polygons, values\n",
    "\n",
    "\n",
    "mean = df.orphaned.mean()\n",
    "std = df.orphaned.std()\n",
    "\n",
    "#'gadm41_KEN_shp/gadm41_KEN_2.shp'\n",
    "zm_map_shape = \"C:/Users/jgidn/Documents/Summer Project/gadm41_ZMB_shp/gadm41_ZMB_2.shp\"\n",
    "gdf = gpd.read_file(zm_map_shape)\n",
    "gdf.to_file(\"C:/Users/jgidn/Documents/Summer Project/gadm41_ZMB_shp/gadm41_ZMB_2.geojson\", driver=\"GeoJSON\")\n",
    "gdf_json = gpd.read_file(\"C:/Users/jgidn/Documents/Summer Project/gadm41_ZMB_shp/gadm41_ZMB_2.geojson\")\n",
    "\n",
    "\n",
    "def get_coords(row):\n",
    "    x_list = row.geometry.geoms[0].exterior.coords.xy[0]\n",
    "    y_list = row.geometry.geoms[0].exterior.coords.xy[1]\n",
    "\n",
    "    return (np.array(x_list),np.array(y_list))"
   ]
  },
  {
   "cell_type": "code",
   "execution_count": 6,
   "metadata": {},
   "outputs": [
    {
     "ename": "AttributeError",
     "evalue": "'Figure' object has no attribute 'plot'",
     "output_type": "error",
     "traceback": [
      "\u001b[1;31m---------------------------------------------------------------------------\u001b[0m",
      "\u001b[1;31mAttributeError\u001b[0m                            Traceback (most recent call last)",
      "Cell \u001b[1;32mIn[6], line 27\u001b[0m\n\u001b[0;32m     16\u001b[0m fig\u001b[38;5;241m.\u001b[39madd_trace(go\u001b[38;5;241m.\u001b[39mChoroplethmapbox(\n\u001b[0;32m     17\u001b[0m     geojson\u001b[38;5;241m=\u001b[39mgdf\u001b[38;5;241m.\u001b[39m__geo_interface__,\n\u001b[0;32m     18\u001b[0m     locations\u001b[38;5;241m=\u001b[39mgdf\u001b[38;5;241m.\u001b[39mindex,\n\u001b[1;32m   (...)\u001b[0m\n\u001b[0;32m     23\u001b[0m     showscale\u001b[38;5;241m=\u001b[39m\u001b[38;5;28;01mFalse\u001b[39;00m,\n\u001b[0;32m     24\u001b[0m ))\n\u001b[0;32m     25\u001b[0m fig\u001b[38;5;241m.\u001b[39mupdate_layout(margin\u001b[38;5;241m=\u001b[39m\u001b[38;5;28mdict\u001b[39m(l\u001b[38;5;241m=\u001b[39m\u001b[38;5;241m0\u001b[39m, r\u001b[38;5;241m=\u001b[39m\u001b[38;5;241m0\u001b[39m, t\u001b[38;5;241m=\u001b[39m\u001b[38;5;241m30\u001b[39m, b\u001b[38;5;241m=\u001b[39m\u001b[38;5;241m10\u001b[39m))\n\u001b[1;32m---> 27\u001b[0m \u001b[43mfig\u001b[49m\u001b[38;5;241;43m.\u001b[39;49m\u001b[43mplot\u001b[49m()\n\u001b[0;32m     29\u001b[0m fig\u001b[38;5;241m.\u001b[39mwrite_image(\u001b[38;5;124m\"\u001b[39m\u001b[38;5;124mC:/Users/jgidn/Documents/Summer Project/orphanhood_zambia.pdf\u001b[39m\u001b[38;5;124m\"\u001b[39m)\n",
      "\u001b[1;31mAttributeError\u001b[0m: 'Figure' object has no attribute 'plot'"
     ]
    }
   ],
   "source": [
    "polygons, values = pixel2poly(gridx, gridy, z, resolution)\n",
    "values_percent = [100*val for val in values]\n",
    "kenya_model = (gpd.GeoDataFrame({\"Orphanhood %\": values_percent}, geometry=polygons, crs=\"EPSG:3347\")\n",
    "                   .to_crs(\"EPSG:4326\")\n",
    "               )\n",
    "kenya_model = gpd.clip(kenya_model,gdf)\n",
    "fig = px.choropleth_mapbox(kenya_model, geojson=kenya_model.geometry, locations=kenya_model.index,\n",
    "                           color=\"Orphanhood %\", color_continuous_scale=\"Viridis\",\n",
    "                           range_color=[0,100],\n",
    "                           center={\"lat\": 0.0236, \"lon\": 37.9062}, zoom=5,\n",
    "                           mapbox_style=\"white-bg\")\n",
    "fig.update_layout(coloraxis_showscale=False)\n",
    "fig.update_traces(marker_line_width=0)\n",
    "\n",
    "\n",
    "fig.add_trace(go.Choroplethmapbox(\n",
    "    geojson=gdf.__geo_interface__,\n",
    "    locations=gdf.index,\n",
    "    z=gdf.index,  # This is just a placeholder, we're not actually coloring by this\n",
    "    colorscale=[[0, 'rgba(0,0,0,0)'], [1, 'rgba(0,0,0,0)']],  # Transparent fill\n",
    "    marker_line_color='black',\n",
    "    marker_line_width=0.5,\n",
    "    showscale=False,\n",
    "))\n",
    "fig.update_layout(margin=dict(l=0, r=0, t=30, b=10))\n",
    "fig.write_image(\"C:/Users/jgidn/Documents/Summer Project/orphanhood_zambia.pdf\")"
   ]
  },
  {
   "cell_type": "code",
   "execution_count": null,
   "metadata": {},
   "outputs": [],
   "source": []
  }
 ],
 "metadata": {
  "kernelspec": {
   "display_name": "Python 3 (ipykernel)",
   "language": "python",
   "name": "python3"
  },
  "language_info": {
   "codemirror_mode": {
    "name": "ipython",
    "version": 3
   },
   "file_extension": ".py",
   "mimetype": "text/x-python",
   "name": "python",
   "nbconvert_exporter": "python",
   "pygments_lexer": "ipython3",
   "version": "3.11.4"
  }
 },
 "nbformat": 4,
 "nbformat_minor": 4
}
